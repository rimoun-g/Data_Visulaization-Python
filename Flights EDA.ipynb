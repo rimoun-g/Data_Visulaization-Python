{
 "cells": [
  {
   "cell_type": "code",
   "execution_count": 1,
   "metadata": {},
   "outputs": [],
   "source": [
    "import pandas as pd\n",
    "import numpy as np\n",
    "import matplotlib.pyplot as plt\n",
    "import seaborn as sns\n",
    "from bs4 import BeautifulSoup\n",
    "import requests\n",
    "import re"
   ]
  },
  {
   "cell_type": "code",
   "execution_count": 2,
   "metadata": {},
   "outputs": [],
   "source": [
    "df_main = pd.read_csv(\"flights.csv\", index_col=0)"
   ]
  },
  {
   "cell_type": "code",
   "execution_count": 3,
   "metadata": {},
   "outputs": [
    {
     "data": {
      "text/html": [
       "<div>\n",
       "<style scoped>\n",
       "    .dataframe tbody tr th:only-of-type {\n",
       "        vertical-align: middle;\n",
       "    }\n",
       "\n",
       "    .dataframe tbody tr th {\n",
       "        vertical-align: top;\n",
       "    }\n",
       "\n",
       "    .dataframe thead th {\n",
       "        text-align: right;\n",
       "    }\n",
       "</style>\n",
       "<table border=\"1\" class=\"dataframe\">\n",
       "  <thead>\n",
       "    <tr style=\"text-align: right;\">\n",
       "      <th></th>\n",
       "      <th>YEAR</th>\n",
       "      <th>QUARTER</th>\n",
       "      <th>MONTH</th>\n",
       "      <th>DAY_OF_MONTH</th>\n",
       "      <th>DAY_OF_WEEK</th>\n",
       "      <th>FL_DATE</th>\n",
       "      <th>OP_UNIQUE_CARRIER</th>\n",
       "      <th>OP_CARRIER_FL_NUM</th>\n",
       "      <th>ORIGIN_AIRPORT_ID</th>\n",
       "      <th>ORIGIN</th>\n",
       "      <th>...</th>\n",
       "      <th>DIVERTED</th>\n",
       "      <th>CRS_ELAPSED_TIME</th>\n",
       "      <th>ACTUAL_ELAPSED_TIME</th>\n",
       "      <th>AIR_TIME</th>\n",
       "      <th>DISTANCE</th>\n",
       "      <th>CARRIER_DELAY</th>\n",
       "      <th>WEATHER_DELAY</th>\n",
       "      <th>NAS_DELAY</th>\n",
       "      <th>SECURITY_DELAY</th>\n",
       "      <th>LATE_AIRCRAFT_DELAY</th>\n",
       "    </tr>\n",
       "  </thead>\n",
       "  <tbody>\n",
       "    <tr>\n",
       "      <th>0</th>\n",
       "      <td>2019</td>\n",
       "      <td>1</td>\n",
       "      <td>1</td>\n",
       "      <td>6</td>\n",
       "      <td>7</td>\n",
       "      <td>2019-01-06</td>\n",
       "      <td>9E</td>\n",
       "      <td>3280</td>\n",
       "      <td>10397</td>\n",
       "      <td>ATL</td>\n",
       "      <td>...</td>\n",
       "      <td>0.0</td>\n",
       "      <td>47.0</td>\n",
       "      <td>37.0</td>\n",
       "      <td>18.0</td>\n",
       "      <td>83.0</td>\n",
       "      <td>NaN</td>\n",
       "      <td>NaN</td>\n",
       "      <td>NaN</td>\n",
       "      <td>NaN</td>\n",
       "      <td>NaN</td>\n",
       "    </tr>\n",
       "    <tr>\n",
       "      <th>1</th>\n",
       "      <td>2019</td>\n",
       "      <td>1</td>\n",
       "      <td>1</td>\n",
       "      <td>7</td>\n",
       "      <td>1</td>\n",
       "      <td>2019-01-07</td>\n",
       "      <td>9E</td>\n",
       "      <td>3280</td>\n",
       "      <td>10397</td>\n",
       "      <td>ATL</td>\n",
       "      <td>...</td>\n",
       "      <td>0.0</td>\n",
       "      <td>47.0</td>\n",
       "      <td>32.0</td>\n",
       "      <td>19.0</td>\n",
       "      <td>83.0</td>\n",
       "      <td>NaN</td>\n",
       "      <td>NaN</td>\n",
       "      <td>NaN</td>\n",
       "      <td>NaN</td>\n",
       "      <td>NaN</td>\n",
       "    </tr>\n",
       "    <tr>\n",
       "      <th>2</th>\n",
       "      <td>2019</td>\n",
       "      <td>1</td>\n",
       "      <td>1</td>\n",
       "      <td>8</td>\n",
       "      <td>2</td>\n",
       "      <td>2019-01-08</td>\n",
       "      <td>9E</td>\n",
       "      <td>3280</td>\n",
       "      <td>10397</td>\n",
       "      <td>ATL</td>\n",
       "      <td>...</td>\n",
       "      <td>0.0</td>\n",
       "      <td>47.0</td>\n",
       "      <td>39.0</td>\n",
       "      <td>19.0</td>\n",
       "      <td>83.0</td>\n",
       "      <td>NaN</td>\n",
       "      <td>NaN</td>\n",
       "      <td>NaN</td>\n",
       "      <td>NaN</td>\n",
       "      <td>NaN</td>\n",
       "    </tr>\n",
       "    <tr>\n",
       "      <th>3</th>\n",
       "      <td>2019</td>\n",
       "      <td>1</td>\n",
       "      <td>1</td>\n",
       "      <td>9</td>\n",
       "      <td>3</td>\n",
       "      <td>2019-01-09</td>\n",
       "      <td>9E</td>\n",
       "      <td>3280</td>\n",
       "      <td>10397</td>\n",
       "      <td>ATL</td>\n",
       "      <td>...</td>\n",
       "      <td>0.0</td>\n",
       "      <td>47.0</td>\n",
       "      <td>37.0</td>\n",
       "      <td>19.0</td>\n",
       "      <td>83.0</td>\n",
       "      <td>NaN</td>\n",
       "      <td>NaN</td>\n",
       "      <td>NaN</td>\n",
       "      <td>NaN</td>\n",
       "      <td>NaN</td>\n",
       "    </tr>\n",
       "    <tr>\n",
       "      <th>4</th>\n",
       "      <td>2019</td>\n",
       "      <td>1</td>\n",
       "      <td>1</td>\n",
       "      <td>10</td>\n",
       "      <td>4</td>\n",
       "      <td>2019-01-10</td>\n",
       "      <td>9E</td>\n",
       "      <td>3280</td>\n",
       "      <td>10397</td>\n",
       "      <td>ATL</td>\n",
       "      <td>...</td>\n",
       "      <td>0.0</td>\n",
       "      <td>47.0</td>\n",
       "      <td>41.0</td>\n",
       "      <td>21.0</td>\n",
       "      <td>83.0</td>\n",
       "      <td>NaN</td>\n",
       "      <td>NaN</td>\n",
       "      <td>NaN</td>\n",
       "      <td>NaN</td>\n",
       "      <td>NaN</td>\n",
       "    </tr>\n",
       "  </tbody>\n",
       "</table>\n",
       "<p>5 rows × 29 columns</p>\n",
       "</div>"
      ],
      "text/plain": [
       "   YEAR  QUARTER  MONTH  DAY_OF_MONTH  DAY_OF_WEEK     FL_DATE  \\\n",
       "0  2019        1      1             6            7  2019-01-06   \n",
       "1  2019        1      1             7            1  2019-01-07   \n",
       "2  2019        1      1             8            2  2019-01-08   \n",
       "3  2019        1      1             9            3  2019-01-09   \n",
       "4  2019        1      1            10            4  2019-01-10   \n",
       "\n",
       "  OP_UNIQUE_CARRIER  OP_CARRIER_FL_NUM  ORIGIN_AIRPORT_ID ORIGIN  ...  \\\n",
       "0                9E               3280              10397    ATL  ...   \n",
       "1                9E               3280              10397    ATL  ...   \n",
       "2                9E               3280              10397    ATL  ...   \n",
       "3                9E               3280              10397    ATL  ...   \n",
       "4                9E               3280              10397    ATL  ...   \n",
       "\n",
       "   DIVERTED CRS_ELAPSED_TIME  ACTUAL_ELAPSED_TIME  AIR_TIME  DISTANCE  \\\n",
       "0       0.0             47.0                 37.0      18.0      83.0   \n",
       "1       0.0             47.0                 32.0      19.0      83.0   \n",
       "2       0.0             47.0                 39.0      19.0      83.0   \n",
       "3       0.0             47.0                 37.0      19.0      83.0   \n",
       "4       0.0             47.0                 41.0      21.0      83.0   \n",
       "\n",
       "   CARRIER_DELAY  WEATHER_DELAY  NAS_DELAY  SECURITY_DELAY  \\\n",
       "0            NaN            NaN        NaN             NaN   \n",
       "1            NaN            NaN        NaN             NaN   \n",
       "2            NaN            NaN        NaN             NaN   \n",
       "3            NaN            NaN        NaN             NaN   \n",
       "4            NaN            NaN        NaN             NaN   \n",
       "\n",
       "   LATE_AIRCRAFT_DELAY  \n",
       "0                  NaN  \n",
       "1                  NaN  \n",
       "2                  NaN  \n",
       "3                  NaN  \n",
       "4                  NaN  \n",
       "\n",
       "[5 rows x 29 columns]"
      ]
     },
     "execution_count": 3,
     "metadata": {},
     "output_type": "execute_result"
    }
   ],
   "source": [
    "df_main.head()"
   ]
  },
  {
   "cell_type": "code",
   "execution_count": 4,
   "metadata": {},
   "outputs": [
    {
     "name": "stdout",
     "output_type": "stream",
     "text": [
      "<class 'pandas.core.frame.DataFrame'>\n",
      "Int64Index: 583985 entries, 0 to 583984\n",
      "Data columns (total 29 columns):\n",
      " #   Column               Non-Null Count   Dtype  \n",
      "---  ------               --------------   -----  \n",
      " 0   YEAR                 583985 non-null  int64  \n",
      " 1   QUARTER              583985 non-null  int64  \n",
      " 2   MONTH                583985 non-null  int64  \n",
      " 3   DAY_OF_MONTH         583985 non-null  int64  \n",
      " 4   DAY_OF_WEEK          583985 non-null  int64  \n",
      " 5   FL_DATE              583985 non-null  object \n",
      " 6   OP_UNIQUE_CARRIER    583985 non-null  object \n",
      " 7   OP_CARRIER_FL_NUM    583985 non-null  int64  \n",
      " 8   ORIGIN_AIRPORT_ID    583985 non-null  int64  \n",
      " 9   ORIGIN               583985 non-null  object \n",
      " 10  DEST_AIRPORT_ID      583985 non-null  int64  \n",
      " 11  DEST                 583985 non-null  object \n",
      " 12  CRS_DEP_TIME         583985 non-null  int64  \n",
      " 13  DEP_TIME             567633 non-null  float64\n",
      " 14  DEP_DELAY_NEW        567630 non-null  float64\n",
      " 15  CRS_ARR_TIME         583985 non-null  int64  \n",
      " 16  ARR_TIME             566924 non-null  float64\n",
      " 17  ARR_DELAY            565963 non-null  float64\n",
      " 18  CANCELLED            583985 non-null  float64\n",
      " 19  DIVERTED             583985 non-null  float64\n",
      " 20  CRS_ELAPSED_TIME     583851 non-null  float64\n",
      " 21  ACTUAL_ELAPSED_TIME  565963 non-null  float64\n",
      " 22  AIR_TIME             565963 non-null  float64\n",
      " 23  DISTANCE             583985 non-null  float64\n",
      " 24  CARRIER_DELAY        105222 non-null  float64\n",
      " 25  WEATHER_DELAY        105222 non-null  float64\n",
      " 26  NAS_DELAY            105222 non-null  float64\n",
      " 27  SECURITY_DELAY       105222 non-null  float64\n",
      " 28  LATE_AIRCRAFT_DELAY  105222 non-null  float64\n",
      "dtypes: float64(15), int64(10), object(4)\n",
      "memory usage: 133.7+ MB\n"
     ]
    }
   ],
   "source": [
    "df_main.info()"
   ]
  },
  {
   "cell_type": "code",
   "execution_count": 5,
   "metadata": {},
   "outputs": [],
   "source": [
    "# changing column names to lower case\n",
    "df_main.columns = df_main.columns.str.lower()"
   ]
  },
  {
   "cell_type": "code",
   "execution_count": 6,
   "metadata": {},
   "outputs": [
    {
     "data": {
      "text/html": [
       "<div>\n",
       "<style scoped>\n",
       "    .dataframe tbody tr th:only-of-type {\n",
       "        vertical-align: middle;\n",
       "    }\n",
       "\n",
       "    .dataframe tbody tr th {\n",
       "        vertical-align: top;\n",
       "    }\n",
       "\n",
       "    .dataframe thead th {\n",
       "        text-align: right;\n",
       "    }\n",
       "</style>\n",
       "<table border=\"1\" class=\"dataframe\">\n",
       "  <thead>\n",
       "    <tr style=\"text-align: right;\">\n",
       "      <th></th>\n",
       "      <th>year</th>\n",
       "      <th>quarter</th>\n",
       "      <th>month</th>\n",
       "      <th>day_of_month</th>\n",
       "      <th>day_of_week</th>\n",
       "      <th>op_carrier_fl_num</th>\n",
       "      <th>origin_airport_id</th>\n",
       "      <th>dest_airport_id</th>\n",
       "      <th>crs_dep_time</th>\n",
       "      <th>dep_time</th>\n",
       "      <th>dep_delay_new</th>\n",
       "    </tr>\n",
       "  </thead>\n",
       "  <tbody>\n",
       "    <tr>\n",
       "      <th>count</th>\n",
       "      <td>583985.0</td>\n",
       "      <td>583985.0</td>\n",
       "      <td>583985.0</td>\n",
       "      <td>583985.000000</td>\n",
       "      <td>583985.000000</td>\n",
       "      <td>583985.000000</td>\n",
       "      <td>583985.000000</td>\n",
       "      <td>583985.000000</td>\n",
       "      <td>583985.000000</td>\n",
       "      <td>567633.000000</td>\n",
       "      <td>567630.000000</td>\n",
       "    </tr>\n",
       "    <tr>\n",
       "      <th>mean</th>\n",
       "      <td>2019.0</td>\n",
       "      <td>1.0</td>\n",
       "      <td>1.0</td>\n",
       "      <td>15.960088</td>\n",
       "      <td>3.835626</td>\n",
       "      <td>2537.869334</td>\n",
       "      <td>12659.701982</td>\n",
       "      <td>12659.470015</td>\n",
       "      <td>1326.266642</td>\n",
       "      <td>1331.957814</td>\n",
       "      <td>13.258226</td>\n",
       "    </tr>\n",
       "    <tr>\n",
       "      <th>std</th>\n",
       "      <td>0.0</td>\n",
       "      <td>0.0</td>\n",
       "      <td>0.0</td>\n",
       "      <td>8.987942</td>\n",
       "      <td>1.921899</td>\n",
       "      <td>1821.736145</td>\n",
       "      <td>1519.405493</td>\n",
       "      <td>1519.336466</td>\n",
       "      <td>484.081000</td>\n",
       "      <td>495.404020</td>\n",
       "      <td>47.507390</td>\n",
       "    </tr>\n",
       "    <tr>\n",
       "      <th>min</th>\n",
       "      <td>2019.0</td>\n",
       "      <td>1.0</td>\n",
       "      <td>1.0</td>\n",
       "      <td>1.000000</td>\n",
       "      <td>1.000000</td>\n",
       "      <td>1.000000</td>\n",
       "      <td>10135.000000</td>\n",
       "      <td>10135.000000</td>\n",
       "      <td>1.000000</td>\n",
       "      <td>1.000000</td>\n",
       "      <td>0.000000</td>\n",
       "    </tr>\n",
       "    <tr>\n",
       "      <th>25%</th>\n",
       "      <td>2019.0</td>\n",
       "      <td>1.0</td>\n",
       "      <td>1.0</td>\n",
       "      <td>8.000000</td>\n",
       "      <td>2.000000</td>\n",
       "      <td>979.000000</td>\n",
       "      <td>11292.000000</td>\n",
       "      <td>11292.000000</td>\n",
       "      <td>917.000000</td>\n",
       "      <td>921.000000</td>\n",
       "      <td>0.000000</td>\n",
       "    </tr>\n",
       "    <tr>\n",
       "      <th>50%</th>\n",
       "      <td>2019.0</td>\n",
       "      <td>1.0</td>\n",
       "      <td>1.0</td>\n",
       "      <td>16.000000</td>\n",
       "      <td>4.000000</td>\n",
       "      <td>2114.000000</td>\n",
       "      <td>12889.000000</td>\n",
       "      <td>12889.000000</td>\n",
       "      <td>1320.000000</td>\n",
       "      <td>1328.000000</td>\n",
       "      <td>0.000000</td>\n",
       "    </tr>\n",
       "    <tr>\n",
       "      <th>75%</th>\n",
       "      <td>2019.0</td>\n",
       "      <td>1.0</td>\n",
       "      <td>1.0</td>\n",
       "      <td>24.000000</td>\n",
       "      <td>5.000000</td>\n",
       "      <td>3902.000000</td>\n",
       "      <td>13931.000000</td>\n",
       "      <td>13931.000000</td>\n",
       "      <td>1730.000000</td>\n",
       "      <td>1738.000000</td>\n",
       "      <td>5.000000</td>\n",
       "    </tr>\n",
       "    <tr>\n",
       "      <th>max</th>\n",
       "      <td>2019.0</td>\n",
       "      <td>1.0</td>\n",
       "      <td>1.0</td>\n",
       "      <td>31.000000</td>\n",
       "      <td>7.000000</td>\n",
       "      <td>7439.000000</td>\n",
       "      <td>16218.000000</td>\n",
       "      <td>16218.000000</td>\n",
       "      <td>2359.000000</td>\n",
       "      <td>2400.000000</td>\n",
       "      <td>1651.000000</td>\n",
       "    </tr>\n",
       "  </tbody>\n",
       "</table>\n",
       "</div>"
      ],
      "text/plain": [
       "           year   quarter     month   day_of_month    day_of_week  \\\n",
       "count  583985.0  583985.0  583985.0  583985.000000  583985.000000   \n",
       "mean     2019.0       1.0       1.0      15.960088       3.835626   \n",
       "std         0.0       0.0       0.0       8.987942       1.921899   \n",
       "min      2019.0       1.0       1.0       1.000000       1.000000   \n",
       "25%      2019.0       1.0       1.0       8.000000       2.000000   \n",
       "50%      2019.0       1.0       1.0      16.000000       4.000000   \n",
       "75%      2019.0       1.0       1.0      24.000000       5.000000   \n",
       "max      2019.0       1.0       1.0      31.000000       7.000000   \n",
       "\n",
       "       op_carrier_fl_num  origin_airport_id  dest_airport_id   crs_dep_time  \\\n",
       "count      583985.000000      583985.000000    583985.000000  583985.000000   \n",
       "mean         2537.869334       12659.701982     12659.470015    1326.266642   \n",
       "std          1821.736145        1519.405493      1519.336466     484.081000   \n",
       "min             1.000000       10135.000000     10135.000000       1.000000   \n",
       "25%           979.000000       11292.000000     11292.000000     917.000000   \n",
       "50%          2114.000000       12889.000000     12889.000000    1320.000000   \n",
       "75%          3902.000000       13931.000000     13931.000000    1730.000000   \n",
       "max          7439.000000       16218.000000     16218.000000    2359.000000   \n",
       "\n",
       "            dep_time  dep_delay_new  \n",
       "count  567633.000000  567630.000000  \n",
       "mean     1331.957814      13.258226  \n",
       "std       495.404020      47.507390  \n",
       "min         1.000000       0.000000  \n",
       "25%       921.000000       0.000000  \n",
       "50%      1328.000000       0.000000  \n",
       "75%      1738.000000       5.000000  \n",
       "max      2400.000000    1651.000000  "
      ]
     },
     "execution_count": 6,
     "metadata": {},
     "output_type": "execute_result"
    }
   ],
   "source": [
    "df_main[df_main.columns[:15]].describe()"
   ]
  },
  {
   "cell_type": "code",
   "execution_count": 7,
   "metadata": {},
   "outputs": [
    {
     "data": {
      "text/html": [
       "<div>\n",
       "<style scoped>\n",
       "    .dataframe tbody tr th:only-of-type {\n",
       "        vertical-align: middle;\n",
       "    }\n",
       "\n",
       "    .dataframe tbody tr th {\n",
       "        vertical-align: top;\n",
       "    }\n",
       "\n",
       "    .dataframe thead th {\n",
       "        text-align: right;\n",
       "    }\n",
       "</style>\n",
       "<table border=\"1\" class=\"dataframe\">\n",
       "  <thead>\n",
       "    <tr style=\"text-align: right;\">\n",
       "      <th></th>\n",
       "      <th>crs_arr_time</th>\n",
       "      <th>arr_time</th>\n",
       "      <th>arr_delay</th>\n",
       "      <th>cancelled</th>\n",
       "      <th>diverted</th>\n",
       "      <th>crs_elapsed_time</th>\n",
       "      <th>actual_elapsed_time</th>\n",
       "      <th>air_time</th>\n",
       "      <th>distance</th>\n",
       "      <th>carrier_delay</th>\n",
       "      <th>weather_delay</th>\n",
       "      <th>nas_delay</th>\n",
       "      <th>security_delay</th>\n",
       "      <th>late_aircraft_delay</th>\n",
       "    </tr>\n",
       "  </thead>\n",
       "  <tbody>\n",
       "    <tr>\n",
       "      <th>count</th>\n",
       "      <td>583985.000000</td>\n",
       "      <td>566924.000000</td>\n",
       "      <td>565963.000000</td>\n",
       "      <td>583985.000000</td>\n",
       "      <td>583985.000000</td>\n",
       "      <td>583851.000000</td>\n",
       "      <td>565963.000000</td>\n",
       "      <td>565963.000000</td>\n",
       "      <td>583985.000000</td>\n",
       "      <td>105222.000000</td>\n",
       "      <td>105222.000000</td>\n",
       "      <td>105222.000000</td>\n",
       "      <td>105222.000000</td>\n",
       "      <td>105222.000000</td>\n",
       "    </tr>\n",
       "    <tr>\n",
       "      <th>mean</th>\n",
       "      <td>1502.665556</td>\n",
       "      <td>1484.315921</td>\n",
       "      <td>4.257506</td>\n",
       "      <td>0.028641</td>\n",
       "      <td>0.002219</td>\n",
       "      <td>143.557401</td>\n",
       "      <td>138.610077</td>\n",
       "      <td>112.694461</td>\n",
       "      <td>797.742767</td>\n",
       "      <td>20.106080</td>\n",
       "      <td>4.428551</td>\n",
       "      <td>18.508392</td>\n",
       "      <td>0.079508</td>\n",
       "      <td>24.950590</td>\n",
       "    </tr>\n",
       "    <tr>\n",
       "      <th>std</th>\n",
       "      <td>505.350299</td>\n",
       "      <td>523.162855</td>\n",
       "      <td>51.159511</td>\n",
       "      <td>0.166796</td>\n",
       "      <td>0.047056</td>\n",
       "      <td>73.216303</td>\n",
       "      <td>73.078565</td>\n",
       "      <td>71.195757</td>\n",
       "      <td>589.999261</td>\n",
       "      <td>65.762202</td>\n",
       "      <td>38.535323</td>\n",
       "      <td>41.726392</td>\n",
       "      <td>3.203342</td>\n",
       "      <td>50.851973</td>\n",
       "    </tr>\n",
       "    <tr>\n",
       "      <th>min</th>\n",
       "      <td>1.000000</td>\n",
       "      <td>1.000000</td>\n",
       "      <td>-85.000000</td>\n",
       "      <td>0.000000</td>\n",
       "      <td>0.000000</td>\n",
       "      <td>20.000000</td>\n",
       "      <td>16.000000</td>\n",
       "      <td>4.000000</td>\n",
       "      <td>31.000000</td>\n",
       "      <td>0.000000</td>\n",
       "      <td>0.000000</td>\n",
       "      <td>0.000000</td>\n",
       "      <td>0.000000</td>\n",
       "      <td>0.000000</td>\n",
       "    </tr>\n",
       "    <tr>\n",
       "      <th>25%</th>\n",
       "      <td>1115.000000</td>\n",
       "      <td>1104.000000</td>\n",
       "      <td>-16.000000</td>\n",
       "      <td>0.000000</td>\n",
       "      <td>0.000000</td>\n",
       "      <td>90.000000</td>\n",
       "      <td>85.000000</td>\n",
       "      <td>61.000000</td>\n",
       "      <td>363.000000</td>\n",
       "      <td>0.000000</td>\n",
       "      <td>0.000000</td>\n",
       "      <td>0.000000</td>\n",
       "      <td>0.000000</td>\n",
       "      <td>0.000000</td>\n",
       "    </tr>\n",
       "    <tr>\n",
       "      <th>50%</th>\n",
       "      <td>1525.000000</td>\n",
       "      <td>1517.000000</td>\n",
       "      <td>-7.000000</td>\n",
       "      <td>0.000000</td>\n",
       "      <td>0.000000</td>\n",
       "      <td>125.000000</td>\n",
       "      <td>121.000000</td>\n",
       "      <td>94.000000</td>\n",
       "      <td>640.000000</td>\n",
       "      <td>0.000000</td>\n",
       "      <td>0.000000</td>\n",
       "      <td>5.000000</td>\n",
       "      <td>0.000000</td>\n",
       "      <td>0.000000</td>\n",
       "    </tr>\n",
       "    <tr>\n",
       "      <th>75%</th>\n",
       "      <td>1922.000000</td>\n",
       "      <td>1919.000000</td>\n",
       "      <td>7.000000</td>\n",
       "      <td>0.000000</td>\n",
       "      <td>0.000000</td>\n",
       "      <td>175.000000</td>\n",
       "      <td>170.000000</td>\n",
       "      <td>143.000000</td>\n",
       "      <td>1037.000000</td>\n",
       "      <td>16.000000</td>\n",
       "      <td>0.000000</td>\n",
       "      <td>21.000000</td>\n",
       "      <td>0.000000</td>\n",
       "      <td>29.000000</td>\n",
       "    </tr>\n",
       "    <tr>\n",
       "      <th>max</th>\n",
       "      <td>2400.000000</td>\n",
       "      <td>2400.000000</td>\n",
       "      <td>1638.000000</td>\n",
       "      <td>1.000000</td>\n",
       "      <td>1.000000</td>\n",
       "      <td>703.000000</td>\n",
       "      <td>737.000000</td>\n",
       "      <td>691.000000</td>\n",
       "      <td>4983.000000</td>\n",
       "      <td>1638.000000</td>\n",
       "      <td>1416.000000</td>\n",
       "      <td>1447.000000</td>\n",
       "      <td>816.000000</td>\n",
       "      <td>1514.000000</td>\n",
       "    </tr>\n",
       "  </tbody>\n",
       "</table>\n",
       "</div>"
      ],
      "text/plain": [
       "        crs_arr_time       arr_time      arr_delay      cancelled  \\\n",
       "count  583985.000000  566924.000000  565963.000000  583985.000000   \n",
       "mean     1502.665556    1484.315921       4.257506       0.028641   \n",
       "std       505.350299     523.162855      51.159511       0.166796   \n",
       "min         1.000000       1.000000     -85.000000       0.000000   \n",
       "25%      1115.000000    1104.000000     -16.000000       0.000000   \n",
       "50%      1525.000000    1517.000000      -7.000000       0.000000   \n",
       "75%      1922.000000    1919.000000       7.000000       0.000000   \n",
       "max      2400.000000    2400.000000    1638.000000       1.000000   \n",
       "\n",
       "            diverted  crs_elapsed_time  actual_elapsed_time       air_time  \\\n",
       "count  583985.000000     583851.000000        565963.000000  565963.000000   \n",
       "mean        0.002219        143.557401           138.610077     112.694461   \n",
       "std         0.047056         73.216303            73.078565      71.195757   \n",
       "min         0.000000         20.000000            16.000000       4.000000   \n",
       "25%         0.000000         90.000000            85.000000      61.000000   \n",
       "50%         0.000000        125.000000           121.000000      94.000000   \n",
       "75%         0.000000        175.000000           170.000000     143.000000   \n",
       "max         1.000000        703.000000           737.000000     691.000000   \n",
       "\n",
       "            distance  carrier_delay  weather_delay      nas_delay  \\\n",
       "count  583985.000000  105222.000000  105222.000000  105222.000000   \n",
       "mean      797.742767      20.106080       4.428551      18.508392   \n",
       "std       589.999261      65.762202      38.535323      41.726392   \n",
       "min        31.000000       0.000000       0.000000       0.000000   \n",
       "25%       363.000000       0.000000       0.000000       0.000000   \n",
       "50%       640.000000       0.000000       0.000000       5.000000   \n",
       "75%      1037.000000      16.000000       0.000000      21.000000   \n",
       "max      4983.000000    1638.000000    1416.000000    1447.000000   \n",
       "\n",
       "       security_delay  late_aircraft_delay  \n",
       "count   105222.000000        105222.000000  \n",
       "mean         0.079508            24.950590  \n",
       "std          3.203342            50.851973  \n",
       "min          0.000000             0.000000  \n",
       "25%          0.000000             0.000000  \n",
       "50%          0.000000             0.000000  \n",
       "75%          0.000000            29.000000  \n",
       "max        816.000000          1514.000000  "
      ]
     },
     "execution_count": 7,
     "metadata": {},
     "output_type": "execute_result"
    }
   ],
   "source": [
    "df_main[df_main.columns[15:]].describe()"
   ]
  },
  {
   "cell_type": "markdown",
   "metadata": {},
   "source": [
    "### converting data into right types\n",
    "- year, quarter, month, day_of_month, day_of_week should be catgories\n",
    "- op_carrier_fl_num, origin_airport_id, dest_airport_id should be catgories\n",
    "- fl_date should be datetime and should be made as index to be useful in analysis\n"
   ]
  },
  {
   "cell_type": "code",
   "execution_count": 8,
   "metadata": {},
   "outputs": [
    {
     "name": "stdout",
     "output_type": "stream",
     "text": [
      "<class 'pandas.core.frame.DataFrame'>\n",
      "Int64Index: 583985 entries, 0 to 583984\n",
      "Data columns (total 29 columns):\n",
      " #   Column               Non-Null Count   Dtype   \n",
      "---  ------               --------------   -----   \n",
      " 0   year                 583985 non-null  category\n",
      " 1   quarter              583985 non-null  category\n",
      " 2   month                583985 non-null  category\n",
      " 3   day_of_month         583985 non-null  category\n",
      " 4   day_of_week          583985 non-null  category\n",
      " 5   fl_date              583985 non-null  object  \n",
      " 6   op_unique_carrier    583985 non-null  object  \n",
      " 7   op_carrier_fl_num    583985 non-null  category\n",
      " 8   origin_airport_id    583985 non-null  category\n",
      " 9   origin               583985 non-null  object  \n",
      " 10  dest_airport_id      583985 non-null  category\n",
      " 11  dest                 583985 non-null  object  \n",
      " 12  crs_dep_time         583985 non-null  int64   \n",
      " 13  dep_time             567633 non-null  float64 \n",
      " 14  dep_delay_new        567630 non-null  float64 \n",
      " 15  crs_arr_time         583985 non-null  int64   \n",
      " 16  arr_time             566924 non-null  float64 \n",
      " 17  arr_delay            565963 non-null  float64 \n",
      " 18  cancelled            583985 non-null  float64 \n",
      " 19  diverted             583985 non-null  float64 \n",
      " 20  crs_elapsed_time     583851 non-null  float64 \n",
      " 21  actual_elapsed_time  565963 non-null  float64 \n",
      " 22  air_time             565963 non-null  float64 \n",
      " 23  distance             583985 non-null  float64 \n",
      " 24  carrier_delay        105222 non-null  float64 \n",
      " 25  weather_delay        105222 non-null  float64 \n",
      " 26  nas_delay            105222 non-null  float64 \n",
      " 27  security_delay       105222 non-null  float64 \n",
      " 28  late_aircraft_delay  105222 non-null  float64 \n",
      "dtypes: category(8), float64(15), int64(2), object(4)\n",
      "memory usage: 104.5+ MB\n"
     ]
    }
   ],
   "source": [
    "lst_catgs = ['year', 'quarter', 'month', 'day_of_month', 'day_of_week','op_carrier_fl_num', 'origin_airport_id', 'dest_airport_id']\n",
    "for col in lst_catgs:\n",
    "    df_main[col] = df_main[col].astype('category')\n",
    "    \n",
    "df_main.info()"
   ]
  },
  {
   "cell_type": "code",
   "execution_count": 9,
   "metadata": {},
   "outputs": [],
   "source": [
    "df_main[\"fl_date\"] = pd.to_datetime(df_main.fl_date)\n",
    "df_main.set_index('fl_date', inplace=True)"
   ]
  },
  {
   "cell_type": "code",
   "execution_count": 10,
   "metadata": {},
   "outputs": [
    {
     "data": {
      "text/html": [
       "<div>\n",
       "<style scoped>\n",
       "    .dataframe tbody tr th:only-of-type {\n",
       "        vertical-align: middle;\n",
       "    }\n",
       "\n",
       "    .dataframe tbody tr th {\n",
       "        vertical-align: top;\n",
       "    }\n",
       "\n",
       "    .dataframe thead th {\n",
       "        text-align: right;\n",
       "    }\n",
       "</style>\n",
       "<table border=\"1\" class=\"dataframe\">\n",
       "  <thead>\n",
       "    <tr style=\"text-align: right;\">\n",
       "      <th></th>\n",
       "      <th>year</th>\n",
       "      <th>quarter</th>\n",
       "      <th>month</th>\n",
       "      <th>day_of_month</th>\n",
       "      <th>day_of_week</th>\n",
       "      <th>op_unique_carrier</th>\n",
       "      <th>op_carrier_fl_num</th>\n",
       "      <th>origin_airport_id</th>\n",
       "      <th>origin</th>\n",
       "      <th>dest_airport_id</th>\n",
       "      <th>...</th>\n",
       "      <th>diverted</th>\n",
       "      <th>crs_elapsed_time</th>\n",
       "      <th>actual_elapsed_time</th>\n",
       "      <th>air_time</th>\n",
       "      <th>distance</th>\n",
       "      <th>carrier_delay</th>\n",
       "      <th>weather_delay</th>\n",
       "      <th>nas_delay</th>\n",
       "      <th>security_delay</th>\n",
       "      <th>late_aircraft_delay</th>\n",
       "    </tr>\n",
       "    <tr>\n",
       "      <th>fl_date</th>\n",
       "      <th></th>\n",
       "      <th></th>\n",
       "      <th></th>\n",
       "      <th></th>\n",
       "      <th></th>\n",
       "      <th></th>\n",
       "      <th></th>\n",
       "      <th></th>\n",
       "      <th></th>\n",
       "      <th></th>\n",
       "      <th></th>\n",
       "      <th></th>\n",
       "      <th></th>\n",
       "      <th></th>\n",
       "      <th></th>\n",
       "      <th></th>\n",
       "      <th></th>\n",
       "      <th></th>\n",
       "      <th></th>\n",
       "      <th></th>\n",
       "      <th></th>\n",
       "    </tr>\n",
       "  </thead>\n",
       "  <tbody>\n",
       "    <tr>\n",
       "      <th>2019-01-06</th>\n",
       "      <td>2019</td>\n",
       "      <td>1</td>\n",
       "      <td>1</td>\n",
       "      <td>6</td>\n",
       "      <td>7</td>\n",
       "      <td>9E</td>\n",
       "      <td>3280</td>\n",
       "      <td>10397</td>\n",
       "      <td>ATL</td>\n",
       "      <td>11150</td>\n",
       "      <td>...</td>\n",
       "      <td>0.0</td>\n",
       "      <td>47.0</td>\n",
       "      <td>37.0</td>\n",
       "      <td>18.0</td>\n",
       "      <td>83.0</td>\n",
       "      <td>NaN</td>\n",
       "      <td>NaN</td>\n",
       "      <td>NaN</td>\n",
       "      <td>NaN</td>\n",
       "      <td>NaN</td>\n",
       "    </tr>\n",
       "    <tr>\n",
       "      <th>2019-01-07</th>\n",
       "      <td>2019</td>\n",
       "      <td>1</td>\n",
       "      <td>1</td>\n",
       "      <td>7</td>\n",
       "      <td>1</td>\n",
       "      <td>9E</td>\n",
       "      <td>3280</td>\n",
       "      <td>10397</td>\n",
       "      <td>ATL</td>\n",
       "      <td>11150</td>\n",
       "      <td>...</td>\n",
       "      <td>0.0</td>\n",
       "      <td>47.0</td>\n",
       "      <td>32.0</td>\n",
       "      <td>19.0</td>\n",
       "      <td>83.0</td>\n",
       "      <td>NaN</td>\n",
       "      <td>NaN</td>\n",
       "      <td>NaN</td>\n",
       "      <td>NaN</td>\n",
       "      <td>NaN</td>\n",
       "    </tr>\n",
       "    <tr>\n",
       "      <th>2019-01-08</th>\n",
       "      <td>2019</td>\n",
       "      <td>1</td>\n",
       "      <td>1</td>\n",
       "      <td>8</td>\n",
       "      <td>2</td>\n",
       "      <td>9E</td>\n",
       "      <td>3280</td>\n",
       "      <td>10397</td>\n",
       "      <td>ATL</td>\n",
       "      <td>11150</td>\n",
       "      <td>...</td>\n",
       "      <td>0.0</td>\n",
       "      <td>47.0</td>\n",
       "      <td>39.0</td>\n",
       "      <td>19.0</td>\n",
       "      <td>83.0</td>\n",
       "      <td>NaN</td>\n",
       "      <td>NaN</td>\n",
       "      <td>NaN</td>\n",
       "      <td>NaN</td>\n",
       "      <td>NaN</td>\n",
       "    </tr>\n",
       "    <tr>\n",
       "      <th>2019-01-09</th>\n",
       "      <td>2019</td>\n",
       "      <td>1</td>\n",
       "      <td>1</td>\n",
       "      <td>9</td>\n",
       "      <td>3</td>\n",
       "      <td>9E</td>\n",
       "      <td>3280</td>\n",
       "      <td>10397</td>\n",
       "      <td>ATL</td>\n",
       "      <td>11150</td>\n",
       "      <td>...</td>\n",
       "      <td>0.0</td>\n",
       "      <td>47.0</td>\n",
       "      <td>37.0</td>\n",
       "      <td>19.0</td>\n",
       "      <td>83.0</td>\n",
       "      <td>NaN</td>\n",
       "      <td>NaN</td>\n",
       "      <td>NaN</td>\n",
       "      <td>NaN</td>\n",
       "      <td>NaN</td>\n",
       "    </tr>\n",
       "    <tr>\n",
       "      <th>2019-01-10</th>\n",
       "      <td>2019</td>\n",
       "      <td>1</td>\n",
       "      <td>1</td>\n",
       "      <td>10</td>\n",
       "      <td>4</td>\n",
       "      <td>9E</td>\n",
       "      <td>3280</td>\n",
       "      <td>10397</td>\n",
       "      <td>ATL</td>\n",
       "      <td>11150</td>\n",
       "      <td>...</td>\n",
       "      <td>0.0</td>\n",
       "      <td>47.0</td>\n",
       "      <td>41.0</td>\n",
       "      <td>21.0</td>\n",
       "      <td>83.0</td>\n",
       "      <td>NaN</td>\n",
       "      <td>NaN</td>\n",
       "      <td>NaN</td>\n",
       "      <td>NaN</td>\n",
       "      <td>NaN</td>\n",
       "    </tr>\n",
       "  </tbody>\n",
       "</table>\n",
       "<p>5 rows × 28 columns</p>\n",
       "</div>"
      ],
      "text/plain": [
       "            year quarter month day_of_month day_of_week op_unique_carrier  \\\n",
       "fl_date                                                                     \n",
       "2019-01-06  2019       1     1            6           7                9E   \n",
       "2019-01-07  2019       1     1            7           1                9E   \n",
       "2019-01-08  2019       1     1            8           2                9E   \n",
       "2019-01-09  2019       1     1            9           3                9E   \n",
       "2019-01-10  2019       1     1           10           4                9E   \n",
       "\n",
       "           op_carrier_fl_num origin_airport_id origin dest_airport_id  ...  \\\n",
       "fl_date                                                                ...   \n",
       "2019-01-06              3280             10397    ATL           11150  ...   \n",
       "2019-01-07              3280             10397    ATL           11150  ...   \n",
       "2019-01-08              3280             10397    ATL           11150  ...   \n",
       "2019-01-09              3280             10397    ATL           11150  ...   \n",
       "2019-01-10              3280             10397    ATL           11150  ...   \n",
       "\n",
       "           diverted  crs_elapsed_time  actual_elapsed_time  air_time  \\\n",
       "fl_date                                                                \n",
       "2019-01-06      0.0              47.0                 37.0      18.0   \n",
       "2019-01-07      0.0              47.0                 32.0      19.0   \n",
       "2019-01-08      0.0              47.0                 39.0      19.0   \n",
       "2019-01-09      0.0              47.0                 37.0      19.0   \n",
       "2019-01-10      0.0              47.0                 41.0      21.0   \n",
       "\n",
       "            distance  carrier_delay  weather_delay  nas_delay  security_delay  \\\n",
       "fl_date                                                                         \n",
       "2019-01-06      83.0            NaN            NaN        NaN             NaN   \n",
       "2019-01-07      83.0            NaN            NaN        NaN             NaN   \n",
       "2019-01-08      83.0            NaN            NaN        NaN             NaN   \n",
       "2019-01-09      83.0            NaN            NaN        NaN             NaN   \n",
       "2019-01-10      83.0            NaN            NaN        NaN             NaN   \n",
       "\n",
       "            late_aircraft_delay  \n",
       "fl_date                          \n",
       "2019-01-06                  NaN  \n",
       "2019-01-07                  NaN  \n",
       "2019-01-08                  NaN  \n",
       "2019-01-09                  NaN  \n",
       "2019-01-10                  NaN  \n",
       "\n",
       "[5 rows x 28 columns]"
      ]
     },
     "execution_count": 10,
     "metadata": {},
     "output_type": "execute_result"
    }
   ],
   "source": [
    "df_main.head()"
   ]
  },
  {
   "cell_type": "markdown",
   "metadata": {},
   "source": [
    "### In our data we have origin and destination airports, however they do not make sense as only shortcuts are used.\n",
    "- we should find a way to convert them into meaningful names\n",
    "----\n",
    "#### After searching the internet, there is a website offers full names for all airport shortcuts and we will try to scrap it and use it in our data"
   ]
  },
  {
   "cell_type": "code",
   "execution_count": 11,
   "metadata": {},
   "outputs": [],
   "source": [
    "url = 'https://www.prokerala.com/travel/airports/united-states-of-america/'\n",
    "codes_page = requests.get(url).content\n",
    "page_text = BeautifulSoup(codes_page,'lxml')\n",
    "lst_codes = []\n",
    "for i in page_text.find_all('table')[2].find_all('td'):\n",
    "    lst_codes.append(i.text)"
   ]
  },
  {
   "cell_type": "code",
   "execution_count": 12,
   "metadata": {},
   "outputs": [],
   "source": [
    "lst_codes = []\n",
    "for i in page_text.find_all('table'):\n",
    "    for j in i.find_all('td'):\n",
    "        lst_codes.append(j.text)"
   ]
  },
  {
   "cell_type": "code",
   "execution_count": 13,
   "metadata": {},
   "outputs": [
    {
     "data": {
      "text/plain": [
       "['A L Mangham Jr. Regional Airport  Nacogdoches, TX',\n",
       " 'OCH',\n",
       " 'AAF Heliport Airport  Fort Devens',\n",
       " 'AYE',\n",
       " 'Acadiana Regional Airport  New Iberia',\n",
       " 'ARA',\n",
       " 'Accomack County Airport  Melfa',\n",
       " 'MFV',\n",
       " 'Adak Island Ns Airport  Adak Island',\n",
       " 'ADK',\n",
       " 'Adams Field Airport  Little Rock, AR',\n",
       " 'LIT',\n",
       " 'Addison Airport  Dallas',\n",
       " 'ADS',\n",
       " 'Adirondack Airport  Saranac Lake',\n",
       " 'SLK',\n",
       " 'Af Aux Airport  Indian Springs',\n",
       " 'INS',\n",
       " 'AFB Airport  Homestead',\n",
       " 'HST']"
      ]
     },
     "execution_count": 13,
     "metadata": {},
     "output_type": "execute_result"
    }
   ],
   "source": [
    "new_lst= []\n",
    "ap_codes = {}\n",
    "for i in lst_codes:\n",
    "    if len(i) >= 3 and len(i) != 4:\n",
    "        new_lst.append(i)\n",
    "\n",
    "new_lst_clean = []\n",
    "for x in new_lst:\n",
    "    if re.search('[0-9]{3}',x)==None:\n",
    "        new_lst_clean.append(str(x).replace('\\n',' ').strip())\n",
    "\n",
    "new_lst_clean[0:20]"
   ]
  },
  {
   "cell_type": "code",
   "execution_count": 14,
   "metadata": {},
   "outputs": [],
   "source": [
    "ap_codes = {}\n",
    "for i in range(0,len(new_lst_clean),2):\n",
    "    ap_codes[new_lst_clean[i+1]] = new_lst_clean[i]\n",
    "    "
   ]
  },
  {
   "cell_type": "code",
   "execution_count": 15,
   "metadata": {},
   "outputs": [
    {
     "data": {
      "text/plain": [
       "[('OCH', 'A L Mangham Jr. Regional Airport  Nacogdoches, TX'),\n",
       " ('AYE', 'AAF Heliport Airport  Fort Devens'),\n",
       " ('ARA', 'Acadiana Regional Airport  New Iberia'),\n",
       " ('MFV', 'Accomack County Airport  Melfa'),\n",
       " ('ADK', 'Adak Island Ns Airport  Adak Island'),\n",
       " ('LIT', 'Adams Field Airport  Little Rock, AR'),\n",
       " ('ADS', 'Addison Airport  Dallas'),\n",
       " ('SLK', 'Adirondack Airport  Saranac Lake'),\n",
       " ('INS', 'Af Aux Airport  Indian Springs'),\n",
       " ('HST', 'AFB Airport  Homestead')]"
      ]
     },
     "execution_count": 15,
     "metadata": {},
     "output_type": "execute_result"
    }
   ],
   "source": [
    "list(ap_codes.items())[0:10]"
   ]
  },
  {
   "cell_type": "markdown",
   "metadata": {},
   "source": [
    "#### After extracting the reports in ready dictionary to be added for our operation we should check if we have all the airports shortcuts"
   ]
  },
  {
   "cell_type": "code",
   "execution_count": 16,
   "metadata": {},
   "outputs": [
    {
     "data": {
      "text/plain": [
       "array(['CSG', 'ECP', 'SJU', 'AZA', 'USA', 'BQN', 'PSE', 'STT', 'STX',\n",
       "       'GUM', 'SPN', 'TXK', 'PPG'], dtype=object)"
      ]
     },
     "execution_count": 16,
     "metadata": {},
     "output_type": "execute_result"
    }
   ],
   "source": [
    "df_main.loc[df_main.origin.isin(ap_codes.keys())==False, 'origin'].unique()"
   ]
  },
  {
   "cell_type": "code",
   "execution_count": 17,
   "metadata": {},
   "outputs": [
    {
     "data": {
      "text/plain": [
       "array(['CSG', 'SJU', 'ECP', 'USA', 'AZA', 'BQN', 'PSE', 'STT', 'STX',\n",
       "       'GUM', 'SPN', 'TXK', 'PPG'], dtype=object)"
      ]
     },
     "execution_count": 17,
     "metadata": {},
     "output_type": "execute_result"
    }
   ],
   "source": [
    "df_main.loc[df_main.dest.isin(ap_codes.keys())==False, 'dest'].unique()"
   ]
  },
  {
   "cell_type": "markdown",
   "metadata": {},
   "source": [
    "#### We see that there are some missing values in both origin and dest we will search for them"
   ]
  },
  {
   "cell_type": "code",
   "execution_count": 18,
   "metadata": {},
   "outputs": [],
   "source": [
    "missing_ap = {\n",
    "    'CSG':'Columbus Metropolitan Airport',\n",
    "    'ECP':\"Northwest Florida Beaches International Airport\",\n",
    "    'SJU':\"Luis Muñoz Marín International Airport\",\n",
    "    'AZA':\"Phoenix-Mesa Gateway Airport\",\n",
    "    'USA':\"Concord Regional Airport\",\n",
    "    'BQN':\"Rafael Hernández International Airport\",\n",
    "    'PSE':\"Mercedita International Airport\",\n",
    "    'STT':\"Cyril E. King Airport\",\n",
    "    'STX':\"Henry E. Rohlsen Airport\",\n",
    "    'GUM':\"Antonio B. Won Pat International Airport\",\n",
    "    'SPN':\"Saipan International Airport\",\n",
    "    'TXK':\"Texarkana Regional Airport\",\n",
    "    'PPG':\"Pago Pago International Airport\"\n",
    "}"
   ]
  },
  {
   "cell_type": "code",
   "execution_count": 19,
   "metadata": {},
   "outputs": [],
   "source": [
    "for i in missing_ap.keys():\n",
    "    ap_codes[i] = missing_ap[i]"
   ]
  },
  {
   "cell_type": "code",
   "execution_count": 20,
   "metadata": {},
   "outputs": [
    {
     "data": {
      "text/plain": [
       "(array([], dtype=object), array([], dtype=object))"
      ]
     },
     "execution_count": 20,
     "metadata": {},
     "output_type": "execute_result"
    }
   ],
   "source": [
    "# now we check again\n",
    "df_main.loc[df_main.dest.isin(ap_codes.keys())==False, 'dest'].unique(), df_main.loc[df_main.origin.isin(ap_codes.keys())==False, 'origin'].unique()"
   ]
  },
  {
   "cell_type": "code",
   "execution_count": 21,
   "metadata": {},
   "outputs": [],
   "source": [
    "# in order to keep our dictionary we can save it in csv format\n",
    "df_airports_names = pd.DataFrame(ap_codes.items(), columns=[\"airport_code\",\"airport_full_name\"])\n",
    "df_airports_names.to_csv(\"US_airports_names_codes.csv\")"
   ]
  },
  {
   "cell_type": "code",
   "execution_count": 22,
   "metadata": {},
   "outputs": [
    {
     "data": {
      "text/html": [
       "<div>\n",
       "<style scoped>\n",
       "    .dataframe tbody tr th:only-of-type {\n",
       "        vertical-align: middle;\n",
       "    }\n",
       "\n",
       "    .dataframe tbody tr th {\n",
       "        vertical-align: top;\n",
       "    }\n",
       "\n",
       "    .dataframe thead th {\n",
       "        text-align: right;\n",
       "    }\n",
       "</style>\n",
       "<table border=\"1\" class=\"dataframe\">\n",
       "  <thead>\n",
       "    <tr style=\"text-align: right;\">\n",
       "      <th></th>\n",
       "      <th>airport_code</th>\n",
       "      <th>airport_full_name</th>\n",
       "    </tr>\n",
       "  </thead>\n",
       "  <tbody>\n",
       "    <tr>\n",
       "      <th>0</th>\n",
       "      <td>OCH</td>\n",
       "      <td>A L Mangham Jr. Regional Airport  Nacogdoches, TX</td>\n",
       "    </tr>\n",
       "    <tr>\n",
       "      <th>1</th>\n",
       "      <td>AYE</td>\n",
       "      <td>AAF Heliport Airport  Fort Devens</td>\n",
       "    </tr>\n",
       "    <tr>\n",
       "      <th>2</th>\n",
       "      <td>ARA</td>\n",
       "      <td>Acadiana Regional Airport  New Iberia</td>\n",
       "    </tr>\n",
       "    <tr>\n",
       "      <th>3</th>\n",
       "      <td>MFV</td>\n",
       "      <td>Accomack County Airport  Melfa</td>\n",
       "    </tr>\n",
       "    <tr>\n",
       "      <th>4</th>\n",
       "      <td>ADK</td>\n",
       "      <td>Adak Island Ns Airport  Adak Island</td>\n",
       "    </tr>\n",
       "  </tbody>\n",
       "</table>\n",
       "</div>"
      ],
      "text/plain": [
       "  airport_code                                  airport_full_name\n",
       "0          OCH  A L Mangham Jr. Regional Airport  Nacogdoches, TX\n",
       "1          AYE                  AAF Heliport Airport  Fort Devens\n",
       "2          ARA              Acadiana Regional Airport  New Iberia\n",
       "3          MFV                     Accomack County Airport  Melfa\n",
       "4          ADK                Adak Island Ns Airport  Adak Island"
      ]
     },
     "execution_count": 22,
     "metadata": {},
     "output_type": "execute_result"
    }
   ],
   "source": [
    "df_airports_names.head()"
   ]
  },
  {
   "cell_type": "code",
   "execution_count": 27,
   "metadata": {},
   "outputs": [
    {
     "data": {
      "text/plain": [
       "\"['quarter', 'month', 'day_of_month', 'day_of_week']\""
      ]
     },
     "execution_count": 27,
     "metadata": {},
     "output_type": "execute_result"
    }
   ],
   "source": [
    "str([\"QUARTER\",\"MONTH\",\"DAY_OF_MONTH\",\"DAY_OF_WEEK\"]).lower()"
   ]
  },
  {
   "cell_type": "code",
   "execution_count": 37,
   "metadata": {},
   "outputs": [
    {
     "data": {
      "text/plain": [
       "<matplotlib.axes._subplots.AxesSubplot at 0x1258973ea20>"
      ]
     },
     "execution_count": 37,
     "metadata": {},
     "output_type": "execute_result"
    },
    {
     "data": {
      "image/png": "[encoded data removed]",
      "text/plain": [
       "<Figure size 432x288 with 1 Axes>"
      ]
     },
     "metadata": {
      "needs_background": "light"
     },
     "output_type": "display_data"
    }
   ],
   "source": [
    "df_main['day_of_week'].value_counts().plot(kind='bar')"
   ]
  },
  {
   "cell_type": "code",
   "execution_count": 41,
   "metadata": {},
   "outputs": [
    {
     "data": {
      "text/plain": [
       "<matplotlib.axes._subplots.AxesSubplot at 0x1258982ea20>"
      ]
     },
     "execution_count": 41,
     "metadata": {},
     "output_type": "execute_result"
    },
    {
     "data": {
      "image/png": "[encoded data removed]",
      "text/plain": [
       "<Figure size 432x288 with 1 Axes>"
      ]
     },
     "metadata": {
      "needs_background": "light"
     },
     "output_type": "display_data"
    }
   ],
   "source": [
    "df_main['origin'].value_counts()[:10].plot(kind='bar')"
   ]
  },
  {
   "cell_type": "code",
   "execution_count": 42,
   "metadata": {},
   "outputs": [
    {
     "data": {
      "text/plain": [
       "<matplotlib.axes._subplots.AxesSubplot at 0x125966a4828>"
      ]
     },
     "execution_count": 42,
     "metadata": {},
     "output_type": "execute_result"
    },
    {
     "data": {
      "image/png": "[encoded data removed]",
      "text/plain": [
       "<Figure size 432x288 with 1 Axes>"
      ]
     },
     "metadata": {
      "needs_background": "light"
     },
     "output_type": "display_data"
    }
   ],
   "source": [
    "df_main['dest'].value_counts()[:10].plot(kind='bar')"
   ]
  },
  {
   "cell_type": "code",
   "execution_count": 69,
   "metadata": {},
   "outputs": [
    {
     "data": {
      "text/plain": [
       "count    567630.000000\n",
       "mean         13.258226\n",
       "std          47.507390\n",
       "min           0.000000\n",
       "25%           0.000000\n",
       "50%           0.000000\n",
       "75%           5.000000\n",
       "max        1651.000000\n",
       "Name: dep_delay_new, dtype: float64"
      ]
     },
     "execution_count": 69,
     "metadata": {},
     "output_type": "execute_result"
    }
   ],
   "source": [
    "df_main['dep_delay_new'].describe()"
   ]
  },
  {
   "cell_type": "code",
   "execution_count": 97,
   "metadata": {},
   "outputs": [
    {
     "data": {
      "text/plain": [
       "(-10, 250)"
      ]
     },
     "execution_count": 97,
     "metadata": {},
     "output_type": "execute_result"
    },
    {
     "data": {
      "image/png": "[encoded data removed]",
      "text/plain": [
       "<Figure size 432x288 with 1 Axes>"
      ]
     },
     "metadata": {
      "needs_background": "light"
     },
     "output_type": "display_data"
    }
   ],
   "source": [
    "df_main['dep_delay_new'].hist(bins=100)\n",
    "plt.xlim(-10,250)"
   ]
  },
  {
   "cell_type": "code",
   "execution_count": 81,
   "metadata": {},
   "outputs": [
    {
     "data": {
      "text/plain": [
       "count    565963.000000\n",
       "mean          4.257506\n",
       "std          51.159511\n",
       "min         -85.000000\n",
       "25%         -16.000000\n",
       "50%          -7.000000\n",
       "75%           7.000000\n",
       "max        1638.000000\n",
       "Name: arr_delay, dtype: float64"
      ]
     },
     "execution_count": 81,
     "metadata": {},
     "output_type": "execute_result"
    }
   ],
   "source": [
    "df_main['arr_delay'].describe()"
   ]
  },
  {
   "cell_type": "code",
   "execution_count": 94,
   "metadata": {},
   "outputs": [
    {
     "data": {
      "text/plain": [
       "(-100, 280)"
      ]
     },
     "execution_count": 94,
     "metadata": {},
     "output_type": "execute_result"
    },
    {
     "data": {
      "image/png": "[encoded data removed]",
      "text/plain": [
       "<Figure size 432x288 with 1 Axes>"
      ]
     },
     "metadata": {
      "needs_background": "light"
     },
     "output_type": "display_data"
    }
   ],
   "source": [
    "df_main['arr_delay'].hist(bins=100)\n",
    "plt.ylim(0,150000)\n",
    "plt.xlim(-100,280)"
   ]
  },
  {
   "cell_type": "code",
   "execution_count": 98,
   "metadata": {},
   "outputs": [
    {
     "data": {
      "text/plain": [
       "count    583985.000000\n",
       "mean        797.742767\n",
       "std         589.999261\n",
       "min          31.000000\n",
       "25%         363.000000\n",
       "50%         640.000000\n",
       "75%        1037.000000\n",
       "max        4983.000000\n",
       "Name: distance, dtype: float64"
      ]
     },
     "execution_count": 98,
     "metadata": {},
     "output_type": "execute_result"
    }
   ],
   "source": [
    "df_main['distance'].describe()"
   ]
  },
  {
   "cell_type": "code",
   "execution_count": 100,
   "metadata": {},
   "outputs": [
    {
     "data": {
      "text/plain": [
       "<matplotlib.axes._subplots.AxesSubplot at 0x12599e845c0>"
      ]
     },
     "execution_count": 100,
     "metadata": {},
     "output_type": "execute_result"
    },
    {
     "data": {
      "image/png": "[encoded data removed]",
      "text/plain": [
       "<Figure size 432x288 with 1 Axes>"
      ]
     },
     "metadata": {
      "needs_background": "light"
     },
     "output_type": "display_data"
    }
   ],
   "source": [
    "df_main['distance'].hist(bins=50)"
   ]
  },
  {
   "cell_type": "code",
   "execution_count": 101,
   "metadata": {},
   "outputs": [
    {
     "data": {
      "text/plain": [
       "count    105222.000000\n",
       "mean         20.106080\n",
       "std          65.762202\n",
       "min           0.000000\n",
       "25%           0.000000\n",
       "50%           0.000000\n",
       "75%          16.000000\n",
       "max        1638.000000\n",
       "Name: carrier_delay, dtype: float64"
      ]
     },
     "execution_count": 101,
     "metadata": {},
     "output_type": "execute_result"
    }
   ],
   "source": [
    "df_main['carrier_delay'].describe()"
   ]
  },
  {
   "cell_type": "code",
   "execution_count": 110,
   "metadata": {},
   "outputs": [
    {
     "data": {
      "text/plain": [
       "(0, 80000)"
      ]
     },
     "execution_count": 110,
     "metadata": {},
     "output_type": "execute_result"
    },
    {
     "data": {
      "image/png": "[encoded data removed]",
      "text/plain": [
       "<Figure size 432x288 with 1 Axes>"
      ]
     },
     "metadata": {
      "needs_background": "light"
     },
     "output_type": "display_data"
    }
   ],
   "source": [
    "df_main['carrier_delay'].hist(bins=100)\n",
    "plt.xlim(-10,350)\n",
    "plt.ylim(0,80000)"
   ]
  },
  {
   "cell_type": "code",
   "execution_count": 111,
   "metadata": {},
   "outputs": [
    {
     "data": {
      "text/plain": [
       "count    105222.000000\n",
       "mean          4.428551\n",
       "std          38.535323\n",
       "min           0.000000\n",
       "25%           0.000000\n",
       "50%           0.000000\n",
       "75%           0.000000\n",
       "max        1416.000000\n",
       "Name: weather_delay, dtype: float64"
      ]
     },
     "execution_count": 111,
     "metadata": {},
     "output_type": "execute_result"
    }
   ],
   "source": [
    "df_main['weather_delay'].describe()"
   ]
  },
  {
   "cell_type": "code",
   "execution_count": 125,
   "metadata": {},
   "outputs": [
    {
     "data": {
      "text/plain": [
       "(0, 10000)"
      ]
     },
     "execution_count": 125,
     "metadata": {},
     "output_type": "execute_result"
    },
    {
     "data": {
      "image/png": "[encoded data removed]",
      "text/plain": [
       "<Figure size 432x288 with 1 Axes>"
      ]
     },
     "metadata": {
      "needs_background": "light"
     },
     "output_type": "display_data"
    }
   ],
   "source": [
    "df_main['weather_delay'].hist(bins=300)\n",
    "plt.xlim(-5,75)\n",
    "plt.ylim(0,10000)"
   ]
  },
  {
   "cell_type": "code",
   "execution_count": null,
   "metadata": {},
   "outputs": [],
   "source": []
  }
 ],
 "metadata": {
  "kernelspec": {
   "display_name": "Python 3",
   "language": "python",
   "name": "python3"
  },
  "language_info": {
   "codemirror_mode": {
    "name": "ipython",
    "version": 3
   },
   "file_extension": ".py",
   "mimetype": "text/x-python",
   "name": "python",
   "nbconvert_exporter": "python",
   "pygments_lexer": "ipython3",
   "version": "3.6.8"
  }
 },
 "nbformat": 4,
 "nbformat_minor": 4
}
